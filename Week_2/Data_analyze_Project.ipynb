{
 "cells": [
  {
   "cell_type": "code",
   "execution_count": 22,
   "metadata": {
    "collapsed": true
   },
   "outputs": [],
   "source": [
    "%matplotlib inline\n",
    "import pandas as pd\n",
    "import numpy as np\n",
    "import matplotlib.pyplot as plt\n",
    "import seaborn as sns"
   ]
  },
  {
   "cell_type": "code",
   "execution_count": 35,
   "outputs": [
    {
     "data": {
      "text/plain": "   int_player_id                      str_player_name str_positions  \\\n0              1       Lionel Andrés Messi Cuccittini    RW, ST, CF   \n1              2  Cristiano Ronaldo dos Santos Aveiro        ST, LW   \n2              3                            Jan Oblak            GK   \n3              4                      Kevin De Bruyne       CAM, CM   \n4              5        Neymar da Silva Santos Júnior       LW, CAM   \n\n  dt_date_of_birth  int_height  int_weight  int_overall_rating  \\\n0       1987-06-24         170          72                  93   \n1       1985-02-05         187          83                  92   \n2       1993-01-07         188          87                  91   \n3       1991-06-28         181          70                  91   \n4       1992-02-05         175          68                  91   \n\n   int_potential_rating str_best_position  int_best_overall_rating  ...  \\\n0                    93                RW                       93  ...   \n1                    92                ST                       92  ...   \n2                    93                GK                       91  ...   \n3                    91               CAM                       91  ...   \n4                    91                LW                       91  ...   \n\n   int_international_reputations   str_work_rate  str_body_type int_dribbling  \\\n0                              5     Medium/ Low         Unique            96   \n1                              5       High/ Low         Unique            88   \n2                              3  Medium/ Medium         Unique            12   \n3                              4      High/ High         Unique            88   \n4                              5    High/ Medium         Unique            95   \n\n   int_curve  int_fk_accuracy  int_long_passing  int_ball_control  \\\n0         93               94                91                96   \n1         81               76                77                92   \n2         13               14                40                30   \n3         85               83                93                92   \n4         88               89                81                95   \n\n                               str_player_speciality  \\\n0  ['Dribbler', 'Distance Shooter', 'FK Specialis...   \n1  ['Aerial Threat', 'Dribbler', 'Distance Shoote...   \n2                                                NaN   \n3  ['Dribbler', 'Playmaker\\xa0', 'Engine', 'Dista...   \n4  ['Speedster', 'Dribbler', 'Playmaker\\xa0', 'FK...   \n\n                                           str_trait  \n0  ['Finesse Shot', 'Long Shot Taker (AI)', 'Spee...  \n1  ['Power Free-Kick', 'Flair', 'Long Shot Taker ...  \n2             ['GK Long Throw', 'Comes For Crosses']  \n3  ['Injury Prone', 'Leadership', 'Early Crosser'...  \n4  ['Injury Prone', 'Flair', 'Speed Dribbler (AI)...  \n\n[5 rows x 56 columns]",
      "text/html": "<div>\n<style scoped>\n    .dataframe tbody tr th:only-of-type {\n        vertical-align: middle;\n    }\n\n    .dataframe tbody tr th {\n        vertical-align: top;\n    }\n\n    .dataframe thead th {\n        text-align: right;\n    }\n</style>\n<table border=\"1\" class=\"dataframe\">\n  <thead>\n    <tr style=\"text-align: right;\">\n      <th></th>\n      <th>int_player_id</th>\n      <th>str_player_name</th>\n      <th>str_positions</th>\n      <th>dt_date_of_birth</th>\n      <th>int_height</th>\n      <th>int_weight</th>\n      <th>int_overall_rating</th>\n      <th>int_potential_rating</th>\n      <th>str_best_position</th>\n      <th>int_best_overall_rating</th>\n      <th>...</th>\n      <th>int_international_reputations</th>\n      <th>str_work_rate</th>\n      <th>str_body_type</th>\n      <th>int_dribbling</th>\n      <th>int_curve</th>\n      <th>int_fk_accuracy</th>\n      <th>int_long_passing</th>\n      <th>int_ball_control</th>\n      <th>str_player_speciality</th>\n      <th>str_trait</th>\n    </tr>\n  </thead>\n  <tbody>\n    <tr>\n      <th>0</th>\n      <td>1</td>\n      <td>Lionel Andrés Messi Cuccittini</td>\n      <td>RW, ST, CF</td>\n      <td>1987-06-24</td>\n      <td>170</td>\n      <td>72</td>\n      <td>93</td>\n      <td>93</td>\n      <td>RW</td>\n      <td>93</td>\n      <td>...</td>\n      <td>5</td>\n      <td>Medium/ Low</td>\n      <td>Unique</td>\n      <td>96</td>\n      <td>93</td>\n      <td>94</td>\n      <td>91</td>\n      <td>96</td>\n      <td>['Dribbler', 'Distance Shooter', 'FK Specialis...</td>\n      <td>['Finesse Shot', 'Long Shot Taker (AI)', 'Spee...</td>\n    </tr>\n    <tr>\n      <th>1</th>\n      <td>2</td>\n      <td>Cristiano Ronaldo dos Santos Aveiro</td>\n      <td>ST, LW</td>\n      <td>1985-02-05</td>\n      <td>187</td>\n      <td>83</td>\n      <td>92</td>\n      <td>92</td>\n      <td>ST</td>\n      <td>92</td>\n      <td>...</td>\n      <td>5</td>\n      <td>High/ Low</td>\n      <td>Unique</td>\n      <td>88</td>\n      <td>81</td>\n      <td>76</td>\n      <td>77</td>\n      <td>92</td>\n      <td>['Aerial Threat', 'Dribbler', 'Distance Shoote...</td>\n      <td>['Power Free-Kick', 'Flair', 'Long Shot Taker ...</td>\n    </tr>\n    <tr>\n      <th>2</th>\n      <td>3</td>\n      <td>Jan Oblak</td>\n      <td>GK</td>\n      <td>1993-01-07</td>\n      <td>188</td>\n      <td>87</td>\n      <td>91</td>\n      <td>93</td>\n      <td>GK</td>\n      <td>91</td>\n      <td>...</td>\n      <td>3</td>\n      <td>Medium/ Medium</td>\n      <td>Unique</td>\n      <td>12</td>\n      <td>13</td>\n      <td>14</td>\n      <td>40</td>\n      <td>30</td>\n      <td>NaN</td>\n      <td>['GK Long Throw', 'Comes For Crosses']</td>\n    </tr>\n    <tr>\n      <th>3</th>\n      <td>4</td>\n      <td>Kevin De Bruyne</td>\n      <td>CAM, CM</td>\n      <td>1991-06-28</td>\n      <td>181</td>\n      <td>70</td>\n      <td>91</td>\n      <td>91</td>\n      <td>CAM</td>\n      <td>91</td>\n      <td>...</td>\n      <td>4</td>\n      <td>High/ High</td>\n      <td>Unique</td>\n      <td>88</td>\n      <td>85</td>\n      <td>83</td>\n      <td>93</td>\n      <td>92</td>\n      <td>['Dribbler', 'Playmaker\\xa0', 'Engine', 'Dista...</td>\n      <td>['Injury Prone', 'Leadership', 'Early Crosser'...</td>\n    </tr>\n    <tr>\n      <th>4</th>\n      <td>5</td>\n      <td>Neymar da Silva Santos Júnior</td>\n      <td>LW, CAM</td>\n      <td>1992-02-05</td>\n      <td>175</td>\n      <td>68</td>\n      <td>91</td>\n      <td>91</td>\n      <td>LW</td>\n      <td>91</td>\n      <td>...</td>\n      <td>5</td>\n      <td>High/ Medium</td>\n      <td>Unique</td>\n      <td>95</td>\n      <td>88</td>\n      <td>89</td>\n      <td>81</td>\n      <td>95</td>\n      <td>['Speedster', 'Dribbler', 'Playmaker\\xa0', 'FK...</td>\n      <td>['Injury Prone', 'Flair', 'Speed Dribbler (AI)...</td>\n    </tr>\n  </tbody>\n</table>\n<p>5 rows × 56 columns</p>\n</div>"
     },
     "execution_count": 35,
     "metadata": {},
     "output_type": "execute_result"
    }
   ],
   "source": [
    "# df_data = pd.read_csv(\"data-28180-2021-03-22.csv\", sep=\";\", encoding=\"1251\")\n",
    "df_data = pd.read_csv(\"players.csv\")\n",
    "df_data.head()"
   ],
   "metadata": {
    "collapsed": false,
    "pycharm": {
     "name": "#%%\n"
    }
   }
  },
  {
   "cell_type": "code",
   "execution_count": 44,
   "outputs": [
    {
     "name": "stdout",
     "output_type": "stream",
     "text": [
      "<class 'pandas.core.frame.DataFrame'>\n",
      "RangeIndex: 19002 entries, 0 to 19001\n",
      "Data columns (total 56 columns):\n",
      " #   Column                         Non-Null Count  Dtype  \n",
      "---  ------                         --------------  -----  \n",
      " 0   int_player_id                  19002 non-null  int64  \n",
      " 1   str_player_name                19002 non-null  object \n",
      " 2   str_positions                  19002 non-null  object \n",
      " 3   dt_date_of_birth               19002 non-null  object \n",
      " 4   int_height                     19002 non-null  int64  \n",
      " 5   int_weight                     19002 non-null  int64  \n",
      " 6   int_overall_rating             19002 non-null  int64  \n",
      " 7   int_potential_rating           19002 non-null  int64  \n",
      " 8   str_best_position              19002 non-null  object \n",
      " 9   int_best_overall_rating        19002 non-null  int64  \n",
      " 10  int_value                      19002 non-null  int64  \n",
      " 11  int_wage                       19002 non-null  int64  \n",
      " 12  int_team_id                    18767 non-null  float64\n",
      " 13  str_nationality                19002 non-null  object \n",
      " 14  int_crossing                   19002 non-null  int64  \n",
      " 15  int_finishing                  19002 non-null  int64  \n",
      " 16  int_heading_accuracy           19002 non-null  int64  \n",
      " 17  int_short_passing              19002 non-null  int64  \n",
      " 18  int_volleys                    19002 non-null  int64  \n",
      " 19  int_defensive_awareness        19002 non-null  int64  \n",
      " 20  int_standing_tackle            19002 non-null  int64  \n",
      " 21  int_sliding_tackle             19002 non-null  int64  \n",
      " 22  int_diving                     19002 non-null  int64  \n",
      " 23  int_handling                   19002 non-null  int64  \n",
      " 24  int_kicking                    19002 non-null  int64  \n",
      " 25  int_gk_positioning             19002 non-null  int64  \n",
      " 26  int_reflexes                   19002 non-null  int64  \n",
      " 27  int_aggression                 19002 non-null  int64  \n",
      " 28  int_interceptions              19002 non-null  int64  \n",
      " 29  int_positioning                19002 non-null  int64  \n",
      " 30  int_vision                     19002 non-null  int64  \n",
      " 31  int_penalties                  19002 non-null  int64  \n",
      " 32  int_composure                  19002 non-null  int64  \n",
      " 33  int_acceleration               19002 non-null  int64  \n",
      " 34  int_sprint_speed               19002 non-null  int64  \n",
      " 35  int_agility                    19002 non-null  int64  \n",
      " 36  int_reactions                  19002 non-null  int64  \n",
      " 37  int_balance                    19002 non-null  int64  \n",
      " 38  int_shot_power                 19002 non-null  int64  \n",
      " 39  int_jumping                    19002 non-null  int64  \n",
      " 40  int_stamina                    19002 non-null  int64  \n",
      " 41  int_strength                   19002 non-null  int64  \n",
      " 42  int_long_shots                 19002 non-null  int64  \n",
      " 43  str_preferred_foot             19002 non-null  object \n",
      " 44  int_weak_foot                  19002 non-null  int64  \n",
      " 45  int_skill_moves                19002 non-null  int64  \n",
      " 46  int_international_reputations  19002 non-null  int64  \n",
      " 47  str_work_rate                  19002 non-null  object \n",
      " 48  str_body_type                  19002 non-null  object \n",
      " 49  int_dribbling                  19002 non-null  int64  \n",
      " 50  int_curve                      19002 non-null  int64  \n",
      " 51  int_fk_accuracy                19002 non-null  int64  \n",
      " 52  int_long_passing               19002 non-null  int64  \n",
      " 53  int_ball_control               19002 non-null  int64  \n",
      " 54  str_player_speciality          1416 non-null   object \n",
      " 55  str_trait                      8481 non-null   object \n",
      "dtypes: float64(1), int64(45), object(10)\n",
      "memory usage: 8.1+ MB\n"
     ]
    },
    {
     "data": {
      "text/plain": "       int_wage\n289           0\n293           0\n369           0\n370           0\n371           0\n...         ...\n16420         0\n16751         0\n16937         0\n16943         0\n16949         0\n\n[235 rows x 1 columns]",
      "text/html": "<div>\n<style scoped>\n    .dataframe tbody tr th:only-of-type {\n        vertical-align: middle;\n    }\n\n    .dataframe tbody tr th {\n        vertical-align: top;\n    }\n\n    .dataframe thead th {\n        text-align: right;\n    }\n</style>\n<table border=\"1\" class=\"dataframe\">\n  <thead>\n    <tr style=\"text-align: right;\">\n      <th></th>\n      <th>int_wage</th>\n    </tr>\n  </thead>\n  <tbody>\n    <tr>\n      <th>289</th>\n      <td>0</td>\n    </tr>\n    <tr>\n      <th>293</th>\n      <td>0</td>\n    </tr>\n    <tr>\n      <th>369</th>\n      <td>0</td>\n    </tr>\n    <tr>\n      <th>370</th>\n      <td>0</td>\n    </tr>\n    <tr>\n      <th>371</th>\n      <td>0</td>\n    </tr>\n    <tr>\n      <th>...</th>\n      <td>...</td>\n    </tr>\n    <tr>\n      <th>16420</th>\n      <td>0</td>\n    </tr>\n    <tr>\n      <th>16751</th>\n      <td>0</td>\n    </tr>\n    <tr>\n      <th>16937</th>\n      <td>0</td>\n    </tr>\n    <tr>\n      <th>16943</th>\n      <td>0</td>\n    </tr>\n    <tr>\n      <th>16949</th>\n      <td>0</td>\n    </tr>\n  </tbody>\n</table>\n<p>235 rows × 1 columns</p>\n</div>"
     },
     "execution_count": 44,
     "metadata": {},
     "output_type": "execute_result"
    }
   ],
   "source": [
    "df_data.info()\n",
    "\n",
    "df_data.loc[df_data.int_team_id.isnull(), [\"int_wage\"]]#%%"
   ],
   "metadata": {
    "collapsed": false,
    "pycharm": {
     "name": "#%%\n"
    }
   }
  },
  {
   "cell_type": "code",
   "execution_count": null,
   "outputs": [],
   "source": [
    "sns.set_context('talk')\n",
    "plt.hist(df_data.int_ball_control)\n",
    "\n"
   ],
   "metadata": {
    "collapsed": false,
    "pycharm": {
     "name": "#%%\n"
    }
   }
  },
  {
   "cell_type": "code",
   "execution_count": null,
   "outputs": [],
   "source": [],
   "metadata": {
    "collapsed": false,
    "pycharm": {
     "name": "#%%\n"
    }
   }
  }
 ],
 "metadata": {
  "kernelspec": {
   "display_name": "Python 3",
   "language": "python",
   "name": "python3"
  },
  "language_info": {
   "codemirror_mode": {
    "name": "ipython",
    "version": 2
   },
   "file_extension": ".py",
   "mimetype": "text/x-python",
   "name": "python",
   "nbconvert_exporter": "python",
   "pygments_lexer": "ipython2",
   "version": "2.7.6"
  }
 },
 "nbformat": 4,
 "nbformat_minor": 0
}