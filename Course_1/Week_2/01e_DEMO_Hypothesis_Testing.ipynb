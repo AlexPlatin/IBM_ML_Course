{
 "cells": [
  {
   "cell_type": "markdown",
   "metadata": {},
   "source": [
    "# Machine Learning Foundation\n",
    "\n",
    "## Section 1, Part e: Hypothesis Testing "
   ]
  },
  {
   "cell_type": "markdown",
   "metadata": {},
   "source": [
    "## Objectives: \n",
    "\n",
    "After this discussion, you should be able to: \n",
    "* Know the difference between a null and alternative hypothesis\n",
    "* Write your own set of hypotheses for testing"
   ]
  },
  {
   "cell_type": "code",
   "execution_count": 16,
   "metadata": {},
   "outputs": [
    {
     "name": "stdout",
     "output_type": "stream",
     "text": [
      "Populating the interactive namespace from numpy and matplotlib\n"
     ]
    }
   ],
   "source": [
    "# see https://ipython.readthedocs.io/en/stable/interactive/magics.html\n",
    "%pylab inline\n",
    "%matplotlib inline\n",
    "\n",
    "# %config InlineBackend.figure_formats = ['svg']\n",
    "\n",
    "import matplotlib.pyplot as plt\n",
    "import numpy as np\n",
    "from scipy import stats \n",
    "import math"
   ]
  },
  {
   "cell_type": "markdown",
   "metadata": {},
   "source": [
    "## Null Hypothesis\n",
    "\n",
    "I claim that I can use mystical abilities to predict the outcome of coin flips.\n",
    "\n",
    "You don't think I can.\n",
    "\n",
    "How can we test it?\n",
    "\n",
    "We do an experiment in which I call 100 coin flips. I get 57 right.\n",
    "\n",
    "Am I special or not?\n"
   ]
  },
  {
   "cell_type": "markdown",
   "metadata": {},
   "source": [
    "--- \n",
    "\n",
    "### Determining the Null and Alternative Hypothesis\n",
    "\n",
    "Write the null and alternative hypotheses!\n",
    "\n",
    "Null: \n",
    "\n",
    "Alternative:\n",
    "\n",
    "---"
   ]
  },
  {
   "cell_type": "markdown",
   "metadata": {},
   "source": [
    "**Null:** I'm not special; my true rate of flip prediction is 0.5. \n",
    "\n",
    "But even under this hypothesis, I could get 57 out of 100 right. So did I get lucky (by random chance) or am I mystical?\n",
    "\n",
    "**Alternative:** My true rate of flip prediction is greater than 0.5.\n",
    "\n",
    "The thing we're measuring from the experiment, or **test statistic**, is the number of correct flip predictions out of 100."
   ]
  },
  {
   "cell_type": "markdown",
   "metadata": {},
   "source": [
    "---\n",
    "\n",
    "If the null hypothesis is correct, the test statistic is binomial distributed with parameters `n = 100` and `p = 0.5`. That is, if we repeated the whole experiment many times, we would see such a distribution for all the results.\n",
    "\n",
    "So if the null hypothesis is correct, how likely is it that I got 57 or more coin flips correct?\n",
    "\n",
    "Before we check (really, before we do the experiment) we decide what would convince us that I have ESP. The choice of a cutoff at 5% probability is common. That is, if we would only see data as extreme as we've seen less than 5% of the time, we'll say that seems too unlikely and we will conclude that we don't think the null hypothesis is true.\n",
    "\n",
    "---\n",
    "\n",
    "We have two outcomes, one with probability (p) and the other with probability (1-p) of happening (remember the axioms of probability?), so we know the [binomial](https://en.wikipedia.org/wiki/Binomial_distribution) [distribution](http://mathworld.wolfram.com/BinomialDistribution.html) is the [right tool for this analysis](https://homepage.divms.uiowa.edu/~mbognar/applets/bin.html).\n",
    "\n",
    "In the case of the binomial distribution, which is discrete and not too complicated mathematically, we could just work out the probability. But in general we'll rely on some existing functionality. (In a traditional statistics class, this is the part where we'd turn to a table in the back of the book.)"
   ]
  },
  {
   "cell_type": "code",
   "execution_count": 17,
   "metadata": {},
   "outputs": [
    {
     "name": "stdout",
     "output_type": "stream",
     "text": [
      "9.7%\n"
     ]
    }
   ],
   "source": [
    "from scipy.stats import binom\n",
    "prob = 1 - binom.cdf(56, 100, 0.5)\n",
    "\n",
    "print(str(round(prob*100, 1))+\"%\")"
   ]
  },
  {
   "cell_type": "markdown",
   "metadata": {},
   "source": [
    "The probability of getting 57 or more correct is about 9.7%. This is more than 5%, so we can't reject the null and conclude that I (probably) don't have mystical powers.\n",
    "\n",
    "---\n",
    "\n",
    "Conversely, we can figure out what the 95% cutoff is beforehand.\n",
    "\n",
    "--- \n",
    "\n",
    "### Exercise\n",
    "\n",
    "Find the number of coin flips a person would need to guess correctly for us to believe they're clairvoyant.\n",
    "\n",
    "---"
   ]
  },
  {
   "cell_type": "code",
   "execution_count": 18,
   "metadata": {},
   "outputs": [
    {
     "name": "stdout",
     "output_type": "stream",
     "text": [
      "59.0\n"
     ]
    }
   ],
   "source": [
    "from scipy.stats import binom\n",
    "print(binom.ppf(0.95,100,0.5)+1)"
   ]
  },
  {
   "cell_type": "markdown",
   "metadata": {},
   "source": [
    "Which means, one should get 59 tosses or more to be considered clairvoyant. And we will say the person has predictive power with a confidence level of 95%.\n",
    "\n",
    "---"
   ]
  },
  {
   "cell_type": "markdown",
   "metadata": {},
   "source": [
    "## A More Specific Claim\n",
    "\n",
    "So far so good. What if instead I said, \"I'm not perfect, but I can predict coin tosses 60% of the time. Which is still good, which is still valuable.\"\n",
    "\n",
    "What do we do in this case? Sure, we can do exactly what we did earlier and when I predict 57 times, we can reject my claim.\n",
    "\n",
    "But what if I say, \"Wait a minute. I said 60 and I got 57, that sounds pretty good to me.\"\n",
    "\n",
    "Interpretation:\n",
    "> \"I happened to have a poor guessing day, and that's why my results aren't quite statistically significant!\"\n",
    "\n",
    "What do we say to that? The issue here is that there is no longer a single null hypothesis that we prove or disprove. Instead, **we have two competing hypotheses**:\n",
    "    * Hypothesis A: There is no predictive power\n",
    "    * Hypothesis B: There is a 60% predictive power\n",
    "\n",
    "Each is a normal curve, with one centered at 50% and the other at 60%."
   ]
  },
  {
   "cell_type": "code",
   "execution_count": 19,
   "metadata": {},
   "outputs": [
    {
     "data": {
      "text/plain": "<Figure size 432x288 with 1 Axes>",
      "image/png": "[encoded data removed]"
     },
     "metadata": {
      "needs_background": "light"
     },
     "output_type": "display_data"
    }
   ],
   "source": [
    "mu = 50\n",
    "variance = 10\n",
    "sigma = math.sqrt(variance)\n",
    "x = np.linspace(1, 100, 200)\n",
    "plt.plot(x,stats.norm.pdf(x, mu, sigma))\n",
    "\n",
    "mu = 60\n",
    "variance = 10\n",
    "sigma = math.sqrt(variance)\n",
    "x = np.linspace(1, 100, 200)\n",
    "plt.plot(x,stats.norm.pdf(x, mu, sigma))\n",
    "\n",
    "plt.xlim(30,80)\n",
    "plt.show()"
   ]
  },
  {
   "cell_type": "markdown",
   "metadata": {},
   "source": [
    "**And 57 correct guesses falls within the 95% confidence of both the curves:**"
   ]
  },
  {
   "cell_type": "code",
   "execution_count": 20,
   "metadata": {},
   "outputs": [
    {
     "name": "stdout",
     "output_type": "stream",
     "text": [
      "0.06660530960360678\n",
      "0.3032601298434453\n"
     ]
    }
   ],
   "source": [
    "print (1 - binom.cdf(57, 100, 0.5))\n",
    "print (binom.cdf(57, 100, 0.6))"
   ]
  },
  {
   "cell_type": "markdown",
   "metadata": {},
   "source": [
    "What now? There just isn't enough data to achieve a confidence of 95%. There are few things we can do."
   ]
  },
  {
   "cell_type": "markdown",
   "metadata": {},
   "source": [
    "### 1) Decrease confidence\n",
    "\n",
    "\n",
    "Since we have a claim at 50 and 60, we can pick the mid-point, which is 55. We can say if I can predict over 55, then I have predictive power. This would mean that we have decreased our confidence level."
   ]
  },
  {
   "cell_type": "code",
   "execution_count": null,
   "metadata": {},
   "outputs": [],
   "source": [
    "print (1 - binom.cdf(55, 100, 0.5))\n",
    "print (binom.cdf(54, 100, 0.6))"
   ]
  },
  {
   "cell_type": "markdown",
   "metadata": {},
   "source": [
    "** At an 87% percent confidence level, we can say that I have some predictive power, since I got 57 tosses correct.**\n",
    "\n",
    "Not ideal; we picked a number, which is prone to bias, rather than a confidence interval."
   ]
  },
  {
   "cell_type": "markdown",
   "metadata": {},
   "source": [
    "### 2) Be biased\n",
    "\n",
    "But it is not neccessary that we bias the two hypotheses equally and pick the midpoint the way we did. The cut-off point can be anywhere. Currently, our error margins are even. The chance that someone has predictive power and we say no is 13% and the chance that someone has no power and we say they do is also 13%. As we change the cutoff, one error goes down and the other goes way up.\n",
    "\n",
    "For example, if we stuck with the original 95% on a coin being fair:"
   ]
  },
  {
   "cell_type": "code",
   "execution_count": null,
   "metadata": {},
   "outputs": [],
   "source": [
    "binom.ppf(0.95, 100, 0.5) #this is the inverse of the cdf functions above"
   ]
  },
  {
   "cell_type": "markdown",
   "metadata": {},
   "source": [
    "Then our cutff is 58. Our two errors will be:"
   ]
  },
  {
   "cell_type": "code",
   "execution_count": null,
   "metadata": {},
   "outputs": [],
   "source": [
    "print (1-binom.cdf(58, 100, 0.5))\n",
    "print (binom.cdf(58, 100, 0.6))"
   ]
  },
  {
   "cell_type": "markdown",
   "metadata": {},
   "source": [
    "5% chance someone has no power and we say they do. But a 38% chance someone has predictive power and we say no. Which depending on the problem might be exactly what we want. These two types of errors are called Type I and Type II. And we have the choice of biasing against one or the other. "
   ]
  },
  {
   "cell_type": "markdown",
   "metadata": {},
   "source": [
    "### 3) Increase sample size\n",
    "\n",
    "The best scenario though is to increase the sample size. Imagine what happens we did 1000 tosses instead of 100."
   ]
  },
  {
   "cell_type": "code",
   "execution_count": null,
   "metadata": {},
   "outputs": [],
   "source": [
    "mu = 50\n",
    "variance = 1\n",
    "sigma = math.sqrt(variance)\n",
    "x = np.linspace(1, 100, 1000)\n",
    "plt.plot(x,stats.norm.pdf(x, mu, sigma))\n",
    "\n",
    "mu = 60\n",
    "variance = 1\n",
    "sigma = math.sqrt(variance)\n",
    "x = np.linspace(1, 100, 1000)\n",
    "plt.plot(x,stats.norm.pdf(x, mu, sigma))\n",
    "\n",
    "plt.xlim(45,65)\n",
    "plt.show()"
   ]
  },
  {
   "cell_type": "markdown",
   "metadata": {},
   "source": [
    "The two normal curves are completely seperated now."
   ]
  },
  {
   "cell_type": "code",
   "execution_count": null,
   "metadata": {},
   "outputs": [],
   "source": [
    "print (binom.ppf(0.95,1000,0.5))\n",
    "print (binom.ppf(0.05,1000,0.6))"
   ]
  },
  {
   "cell_type": "markdown",
   "metadata": {},
   "source": [
    "---\n",
    "\n",
    "### Exercise\n",
    "\n",
    "What are our errors now?\n",
    "\n",
    "---"
   ]
  },
  {
   "cell_type": "code",
   "execution_count": null,
   "metadata": {},
   "outputs": [],
   "source": [
    "print (1-binom.cdf(550, 1000, 0.5))\n",
    "print (binom.cdf(550, 1000, 0.6))"
   ]
  },
  {
   "cell_type": "markdown",
   "metadata": {},
   "source": [
    "**With a cutoff of 550, both our errors come down to under 0.1%.**"
   ]
  },
  {
   "cell_type": "markdown",
   "metadata": {},
   "source": [
    "---\n",
    "### Machine Learning Foundation (C) 2020 IBM Corporation"
   ]
  }
 ],
 "metadata": {
  "kernelspec": {
   "name": "python3",
   "language": "python",
   "display_name": "Python 3"
  },
  "language_info": {
   "codemirror_mode": {
    "name": "ipython",
    "version": 3
   },
   "file_extension": ".py",
   "mimetype": "text/x-python",
   "name": "python",
   "nbconvert_exporter": "python",
   "pygments_lexer": "ipython3",
   "version": "3.7.5"
  }
 },
 "nbformat": 4,
 "nbformat_minor": 4
}