{
 "cells": [
  {
   "cell_type": "code",
   "execution_count": 20,
   "metadata": {
    "collapsed": true
   },
   "outputs": [],
   "source": [
    "import pandas as pd\n",
    "import numpy as np\n",
    "path = \"C:\\Projects\\MM_Resources_Estimation\\AREAS\\Guyana\\DB\\DH_Comp_cut03ppm_w5.csv\"\n"
   ]
  },
  {
   "cell_type": "code",
   "execution_count": 21,
   "outputs": [
    {
     "data": {
      "text/plain": "      Area         Trace    FROM      TO            Projet Sample_Number  \\\n0     Area     CO15007DD    5.80   10.00  Condamnation_CGT         58802   \n1     Area     CO15007DD   48.16   49.22  Condamnation_CGT         58837   \n2     Area          GT03  314.80  315.52  Geotechnical_CGT         67125   \n3     Area          GT03  315.78  317.00  Geotechnical_CGT         67126   \n4     Area          GT03  320.50  321.28  Geotechnical_CGT         67131   \n...    ...           ...     ...     ...               ...           ...   \n2423  Area   SRK_TSF_DH5    2.85    3.90  Geotechnical_CGT         54900   \n2424  Area   SRK_TSF_DH5    4.00    4.50  Geotechnical_CGT         54901   \n2425  Area   SRK_TSF_DH9    0.00    3.30  Geotechnical_CGT         55223   \n2426  Area   SRK_TSF_DH9    4.30    5.30  Geotechnical_CGT         55226   \n2427  Area  SRK_TSF_DH10   27.00   27.70  Geotechnical_CGT         54897   \n\n      Length        Au  Cu Drill_Type  Au_cut           EAST          NORTH  \\\n0       4.20  0.662000   0         DD    0.66  173567.352000  521546.419022   \n1       1.06  0.500000   0         DD    0.50  173567.352000  521572.638329   \n2       0.72  3.312000   0        NaN    3.31  173461.889719  520541.206333   \n3       1.22  0.494000   0        NaN    0.49  173461.728651  520541.850023   \n4       0.78  0.433000   0        NaN    0.43  173461.139380  520544.204987   \n...      ...       ...  ..        ...     ...            ...            ...   \n2423    1.05  0.702000   0        NaN    0.70  173558.625000  522635.593000   \n2424    0.50  0.528000   0        NaN    0.53  173558.625000  522635.593000   \n2425    3.30  0.702606   0        NaN    0.70  173369.270000  521351.980000   \n2426    1.00  0.506000   0        NaN    0.51  173369.270000  521351.980000   \n2427    0.70  0.620000   0        NaN    0.62  173512.594000  522307.092000   \n\n              RL          Label  CS  \n0     107.917232  0.66ppm@4.20m NaN  \n1      76.670279  0.50ppm@1.06m NaN  \n2     139.121866  3.31ppm@0.72m NaN  \n3     138.086206  0.49ppm@1.22m NaN  \n4     134.297204  0.43ppm@0.78m NaN  \n...          ...            ...  ..  \n2423   88.343432  0.70ppm@1.05m NaN  \n2424   87.468432  0.53ppm@0.50m NaN  \n2425  104.350000  0.70ppm@3.30m NaN  \n2426  101.200000  0.51ppm@1.00m NaN  \n2427   68.873684  0.62ppm@0.70m NaN  \n\n[2428 rows x 16 columns]",
      "text/html": "<div>\n<style scoped>\n    .dataframe tbody tr th:only-of-type {\n        vertical-align: middle;\n    }\n\n    .dataframe tbody tr th {\n        vertical-align: top;\n    }\n\n    .dataframe thead th {\n        text-align: right;\n    }\n</style>\n<table border=\"1\" class=\"dataframe\">\n  <thead>\n    <tr style=\"text-align: right;\">\n      <th></th>\n      <th>Area</th>\n      <th>Trace</th>\n      <th>FROM</th>\n      <th>TO</th>\n      <th>Projet</th>\n      <th>Sample_Number</th>\n      <th>Length</th>\n      <th>Au</th>\n      <th>Cu</th>\n      <th>Drill_Type</th>\n      <th>Au_cut</th>\n      <th>EAST</th>\n      <th>NORTH</th>\n      <th>RL</th>\n      <th>Label</th>\n      <th>CS</th>\n    </tr>\n  </thead>\n  <tbody>\n    <tr>\n      <th>0</th>\n      <td>Area</td>\n      <td>CO15007DD</td>\n      <td>5.80</td>\n      <td>10.00</td>\n      <td>Condamnation_CGT</td>\n      <td>58802</td>\n      <td>4.20</td>\n      <td>0.662000</td>\n      <td>0</td>\n      <td>DD</td>\n      <td>0.66</td>\n      <td>173567.352000</td>\n      <td>521546.419022</td>\n      <td>107.917232</td>\n      <td>0.66ppm@4.20m</td>\n      <td>NaN</td>\n    </tr>\n    <tr>\n      <th>1</th>\n      <td>Area</td>\n      <td>CO15007DD</td>\n      <td>48.16</td>\n      <td>49.22</td>\n      <td>Condamnation_CGT</td>\n      <td>58837</td>\n      <td>1.06</td>\n      <td>0.500000</td>\n      <td>0</td>\n      <td>DD</td>\n      <td>0.50</td>\n      <td>173567.352000</td>\n      <td>521572.638329</td>\n      <td>76.670279</td>\n      <td>0.50ppm@1.06m</td>\n      <td>NaN</td>\n    </tr>\n    <tr>\n      <th>2</th>\n      <td>Area</td>\n      <td>GT03</td>\n      <td>314.80</td>\n      <td>315.52</td>\n      <td>Geotechnical_CGT</td>\n      <td>67125</td>\n      <td>0.72</td>\n      <td>3.312000</td>\n      <td>0</td>\n      <td>NaN</td>\n      <td>3.31</td>\n      <td>173461.889719</td>\n      <td>520541.206333</td>\n      <td>139.121866</td>\n      <td>3.31ppm@0.72m</td>\n      <td>NaN</td>\n    </tr>\n    <tr>\n      <th>3</th>\n      <td>Area</td>\n      <td>GT03</td>\n      <td>315.78</td>\n      <td>317.00</td>\n      <td>Geotechnical_CGT</td>\n      <td>67126</td>\n      <td>1.22</td>\n      <td>0.494000</td>\n      <td>0</td>\n      <td>NaN</td>\n      <td>0.49</td>\n      <td>173461.728651</td>\n      <td>520541.850023</td>\n      <td>138.086206</td>\n      <td>0.49ppm@1.22m</td>\n      <td>NaN</td>\n    </tr>\n    <tr>\n      <th>4</th>\n      <td>Area</td>\n      <td>GT03</td>\n      <td>320.50</td>\n      <td>321.28</td>\n      <td>Geotechnical_CGT</td>\n      <td>67131</td>\n      <td>0.78</td>\n      <td>0.433000</td>\n      <td>0</td>\n      <td>NaN</td>\n      <td>0.43</td>\n      <td>173461.139380</td>\n      <td>520544.204987</td>\n      <td>134.297204</td>\n      <td>0.43ppm@0.78m</td>\n      <td>NaN</td>\n    </tr>\n    <tr>\n      <th>...</th>\n      <td>...</td>\n      <td>...</td>\n      <td>...</td>\n      <td>...</td>\n      <td>...</td>\n      <td>...</td>\n      <td>...</td>\n      <td>...</td>\n      <td>...</td>\n      <td>...</td>\n      <td>...</td>\n      <td>...</td>\n      <td>...</td>\n      <td>...</td>\n      <td>...</td>\n      <td>...</td>\n    </tr>\n    <tr>\n      <th>2423</th>\n      <td>Area</td>\n      <td>SRK_TSF_DH5</td>\n      <td>2.85</td>\n      <td>3.90</td>\n      <td>Geotechnical_CGT</td>\n      <td>54900</td>\n      <td>1.05</td>\n      <td>0.702000</td>\n      <td>0</td>\n      <td>NaN</td>\n      <td>0.70</td>\n      <td>173558.625000</td>\n      <td>522635.593000</td>\n      <td>88.343432</td>\n      <td>0.70ppm@1.05m</td>\n      <td>NaN</td>\n    </tr>\n    <tr>\n      <th>2424</th>\n      <td>Area</td>\n      <td>SRK_TSF_DH5</td>\n      <td>4.00</td>\n      <td>4.50</td>\n      <td>Geotechnical_CGT</td>\n      <td>54901</td>\n      <td>0.50</td>\n      <td>0.528000</td>\n      <td>0</td>\n      <td>NaN</td>\n      <td>0.53</td>\n      <td>173558.625000</td>\n      <td>522635.593000</td>\n      <td>87.468432</td>\n      <td>0.53ppm@0.50m</td>\n      <td>NaN</td>\n    </tr>\n    <tr>\n      <th>2425</th>\n      <td>Area</td>\n      <td>SRK_TSF_DH9</td>\n      <td>0.00</td>\n      <td>3.30</td>\n      <td>Geotechnical_CGT</td>\n      <td>55223</td>\n      <td>3.30</td>\n      <td>0.702606</td>\n      <td>0</td>\n      <td>NaN</td>\n      <td>0.70</td>\n      <td>173369.270000</td>\n      <td>521351.980000</td>\n      <td>104.350000</td>\n      <td>0.70ppm@3.30m</td>\n      <td>NaN</td>\n    </tr>\n    <tr>\n      <th>2426</th>\n      <td>Area</td>\n      <td>SRK_TSF_DH9</td>\n      <td>4.30</td>\n      <td>5.30</td>\n      <td>Geotechnical_CGT</td>\n      <td>55226</td>\n      <td>1.00</td>\n      <td>0.506000</td>\n      <td>0</td>\n      <td>NaN</td>\n      <td>0.51</td>\n      <td>173369.270000</td>\n      <td>521351.980000</td>\n      <td>101.200000</td>\n      <td>0.51ppm@1.00m</td>\n      <td>NaN</td>\n    </tr>\n    <tr>\n      <th>2427</th>\n      <td>Area</td>\n      <td>SRK_TSF_DH10</td>\n      <td>27.00</td>\n      <td>27.70</td>\n      <td>Geotechnical_CGT</td>\n      <td>54897</td>\n      <td>0.70</td>\n      <td>0.620000</td>\n      <td>0</td>\n      <td>NaN</td>\n      <td>0.62</td>\n      <td>173512.594000</td>\n      <td>522307.092000</td>\n      <td>68.873684</td>\n      <td>0.62ppm@0.70m</td>\n      <td>NaN</td>\n    </tr>\n  </tbody>\n</table>\n<p>2428 rows × 16 columns</p>\n</div>"
     },
     "execution_count": 21,
     "metadata": {},
     "output_type": "execute_result"
    }
   ],
   "source": [
    "df = pd.read_csv(path)\n",
    "df\n",
    "\n"
   ],
   "metadata": {
    "collapsed": false,
    "pycharm": {
     "name": "#%%\n"
    }
   }
  },
  {
   "cell_type": "code",
   "execution_count": 69,
   "outputs": [],
   "source": [
    "df.dropna(subset=[\"CS\"], inplace=True)\n",
    "df.reset_index(inplace=True, drop=True)\n"
   ],
   "metadata": {
    "collapsed": false,
    "pycharm": {
     "name": "#%%\n"
    }
   }
  },
  {
   "cell_type": "code",
   "execution_count": 70,
   "outputs": [],
   "source": [
    "for profile in df[\"CS\"]\n",
    "\n",
    "df_profile = df.loc[df[\"CS\"] == profile]"
   ],
   "metadata": {
    "collapsed": false,
    "pycharm": {
     "name": "#%%\n"
    }
   }
  },
  {
   "cell_type": "code",
   "execution_count": 76,
   "outputs": [
    {
     "data": {
      "text/plain": "           Area    Trace  FROM    TO             Projet Sample_Number  Length  \\\n0     Resources     GT04  15.9  17.1   Geotechnical_CGT         59358     1.2   \n524   Resources  MO12068   7.0   9.0  Montagne d'Or_CGT     MOF-12974     2.0   \n668   Resources  MO12080   0.0  25.0  Montagne d'Or_CGT     MOF-17242    25.0   \n771   Resources  MO12087   1.0  11.0  Montagne d'Or_CGT     MOF-19772    10.0   \n1067  Resources  MO13109   1.0  36.0  Montagne d'Or_CGT         27222    35.0   \n1690  Resources  MO14199  17.0  20.0  Montagne d'Or_CGT         43822     3.0   \n\n            Au  Cu Drill_Type  Au_cut           EAST          NORTH  \\\n0     0.331000   0        NaN    0.33  173469.916414  520695.304724   \n524   3.410000   0         DD    3.41  173439.831356  520741.263720   \n668   0.636800   0         DD    0.64  173436.208979  520956.563820   \n771   0.905000   0         DD    0.91  173434.917695  520880.201573   \n1067  0.624286   0         DD    0.62  173441.959256  520977.723240   \n1690  0.476500   0         DD    0.48  173439.932428  520790.099627   \n\n              RL           Label    CS  \n0     302.715175   0.33ppm@1.20m  31.0  \n524   297.486958   3.41ppm@2.00m  31.0  \n668   196.901961  0.64ppm@25.00m  31.0  \n771   235.967351  0.91ppm@10.00m  31.0  \n1067  191.233412  0.62ppm@35.00m  31.0  \n1690  275.738544   0.48ppm@3.00m  31.0  ",
      "text/html": "<div>\n<style scoped>\n    .dataframe tbody tr th:only-of-type {\n        vertical-align: middle;\n    }\n\n    .dataframe tbody tr th {\n        vertical-align: top;\n    }\n\n    .dataframe thead th {\n        text-align: right;\n    }\n</style>\n<table border=\"1\" class=\"dataframe\">\n  <thead>\n    <tr style=\"text-align: right;\">\n      <th></th>\n      <th>Area</th>\n      <th>Trace</th>\n      <th>FROM</th>\n      <th>TO</th>\n      <th>Projet</th>\n      <th>Sample_Number</th>\n      <th>Length</th>\n      <th>Au</th>\n      <th>Cu</th>\n      <th>Drill_Type</th>\n      <th>Au_cut</th>\n      <th>EAST</th>\n      <th>NORTH</th>\n      <th>RL</th>\n      <th>Label</th>\n      <th>CS</th>\n    </tr>\n  </thead>\n  <tbody>\n    <tr>\n      <th>0</th>\n      <td>Resources</td>\n      <td>GT04</td>\n      <td>15.9</td>\n      <td>17.1</td>\n      <td>Geotechnical_CGT</td>\n      <td>59358</td>\n      <td>1.2</td>\n      <td>0.331000</td>\n      <td>0</td>\n      <td>NaN</td>\n      <td>0.33</td>\n      <td>173469.916414</td>\n      <td>520695.304724</td>\n      <td>302.715175</td>\n      <td>0.33ppm@1.20m</td>\n      <td>31.0</td>\n    </tr>\n    <tr>\n      <th>524</th>\n      <td>Resources</td>\n      <td>MO12068</td>\n      <td>7.0</td>\n      <td>9.0</td>\n      <td>Montagne d'Or_CGT</td>\n      <td>MOF-12974</td>\n      <td>2.0</td>\n      <td>3.410000</td>\n      <td>0</td>\n      <td>DD</td>\n      <td>3.41</td>\n      <td>173439.831356</td>\n      <td>520741.263720</td>\n      <td>297.486958</td>\n      <td>3.41ppm@2.00m</td>\n      <td>31.0</td>\n    </tr>\n    <tr>\n      <th>668</th>\n      <td>Resources</td>\n      <td>MO12080</td>\n      <td>0.0</td>\n      <td>25.0</td>\n      <td>Montagne d'Or_CGT</td>\n      <td>MOF-17242</td>\n      <td>25.0</td>\n      <td>0.636800</td>\n      <td>0</td>\n      <td>DD</td>\n      <td>0.64</td>\n      <td>173436.208979</td>\n      <td>520956.563820</td>\n      <td>196.901961</td>\n      <td>0.64ppm@25.00m</td>\n      <td>31.0</td>\n    </tr>\n    <tr>\n      <th>771</th>\n      <td>Resources</td>\n      <td>MO12087</td>\n      <td>1.0</td>\n      <td>11.0</td>\n      <td>Montagne d'Or_CGT</td>\n      <td>MOF-19772</td>\n      <td>10.0</td>\n      <td>0.905000</td>\n      <td>0</td>\n      <td>DD</td>\n      <td>0.91</td>\n      <td>173434.917695</td>\n      <td>520880.201573</td>\n      <td>235.967351</td>\n      <td>0.91ppm@10.00m</td>\n      <td>31.0</td>\n    </tr>\n    <tr>\n      <th>1067</th>\n      <td>Resources</td>\n      <td>MO13109</td>\n      <td>1.0</td>\n      <td>36.0</td>\n      <td>Montagne d'Or_CGT</td>\n      <td>27222</td>\n      <td>35.0</td>\n      <td>0.624286</td>\n      <td>0</td>\n      <td>DD</td>\n      <td>0.62</td>\n      <td>173441.959256</td>\n      <td>520977.723240</td>\n      <td>191.233412</td>\n      <td>0.62ppm@35.00m</td>\n      <td>31.0</td>\n    </tr>\n    <tr>\n      <th>1690</th>\n      <td>Resources</td>\n      <td>MO14199</td>\n      <td>17.0</td>\n      <td>20.0</td>\n      <td>Montagne d'Or_CGT</td>\n      <td>43822</td>\n      <td>3.0</td>\n      <td>0.476500</td>\n      <td>0</td>\n      <td>DD</td>\n      <td>0.48</td>\n      <td>173439.932428</td>\n      <td>520790.099627</td>\n      <td>275.738544</td>\n      <td>0.48ppm@3.00m</td>\n      <td>31.0</td>\n    </tr>\n  </tbody>\n</table>\n</div>"
     },
     "execution_count": 76,
     "metadata": {},
     "output_type": "execute_result"
    }
   ],
   "source": [
    "df_profile.loc[df_profile.groupby('Trace')['RL'].idxmax()]"
   ],
   "metadata": {
    "collapsed": false,
    "pycharm": {
     "name": "#%%\n"
    }
   }
  },
  {
   "cell_type": "code",
   "execution_count": 80,
   "outputs": [],
   "source": [
    "sorted_traces = df_profile.loc[df_profile.groupby('Trace')['RL'].idxmax()].sort_values(\"NORTH\")[\"Trace\"].to_list()"
   ],
   "metadata": {
    "collapsed": false,
    "pycharm": {
     "name": "#%%\n"
    }
   }
  },
  {
   "cell_type": "code",
   "execution_count": 81,
   "outputs": [
    {
     "name": "stderr",
     "output_type": "stream",
     "text": [
      "c:\\users\\alexey.belyakov\\pycharmprojects\\ibm_ml_course\\venv\\lib\\site-packages\\ipykernel_launcher.py:1: SettingWithCopyWarning: \n",
      "A value is trying to be set on a copy of a slice from a DataFrame.\n",
      "Try using .loc[row_indexer,col_indexer] = value instead\n",
      "\n",
      "See the caveats in the documentation: https://pandas.pydata.org/pandas-docs/stable/user_guide/indexing.html#returning-a-view-versus-a-copy\n",
      "  \"\"\"Entry point for launching an IPython kernel.\n",
      "c:\\users\\alexey.belyakov\\pycharmprojects\\ibm_ml_course\\venv\\lib\\site-packages\\pandas\\core\\indexing.py:1720: SettingWithCopyWarning: \n",
      "A value is trying to be set on a copy of a slice from a DataFrame.\n",
      "Try using .loc[row_indexer,col_indexer] = value instead\n",
      "\n",
      "See the caveats in the documentation: https://pandas.pydata.org/pandas-docs/stable/user_guide/indexing.html#returning-a-view-versus-a-copy\n",
      "  self._setitem_single_column(loc, value, pi)\n"
     ]
    }
   ],
   "source": [
    "df_profile[\"order\"] = np.NAN\n",
    "for num, trace in enumerate(sorted_traces, 1):\n",
    "    df_profile.loc[df_profile[\"Trace\"] == trace, \"order\"] = num\n",
    "\n"
   ],
   "metadata": {
    "collapsed": false,
    "pycharm": {
     "name": "#%%\n"
    }
   }
  },
  {
   "cell_type": "code",
   "execution_count": 85,
   "outputs": [
    {
     "data": {
      "text/plain": "           Area    Trace    FROM      TO             Projet Sample_Number  \\\n0     Resources     GT04   15.90   17.10   Geotechnical_CGT         59358   \n1     Resources     GT04   23.50   24.49   Geotechnical_CGT         59365   \n2     Resources     GT04   66.45   67.05   Geotechnical_CGT         59378   \n3     Resources     GT04   81.39   82.74   Geotechnical_CGT         59381   \n4     Resources     GT04   99.00   99.56   Geotechnical_CGT         55143   \n...         ...      ...     ...     ...                ...           ...   \n1702  Resources  MO14199  216.80  237.04  Montagne d'Or_CGT         44043   \n1703  Resources  MO14199  242.40  244.60  Montagne d'Or_CGT         44073   \n1704  Resources  MO14199  255.40  278.20  Montagne d'Or_CGT         44086   \n1705  Resources  MO14199  286.04  301.00  Montagne d'Or_CGT         44121   \n1706  Resources  MO14199  307.00  308.80  Montagne d'Or_CGT         44141   \n\n      Length         Au  Cu Drill_Type  Au_cut           EAST          NORTH  \\\n0       1.20   0.331000   0        NaN    0.33  173469.916414  520695.304724   \n1       0.99   0.550000   0        NaN    0.55  173469.017758  520697.923522   \n2       0.60   0.486000   0        NaN    0.49  173461.924616  520712.898974   \n3       1.35  16.333481   0        NaN   16.33  173459.129627  520718.946331   \n4       0.56   0.420000   0        NaN    0.42  173455.919319  520726.000208   \n...      ...        ...  ..        ...     ...            ...            ...   \n1702   20.24   0.877573   0         DD    0.88  173441.292164  520888.452661   \n1703    2.20   0.448909   0         DD    0.45  173441.466340  520896.961622   \n1704   22.80   0.433144   0         DD    0.43  173441.722637  520909.106801   \n1705   14.96   0.468398   0         DD    0.47  173442.159537  520923.314938   \n1706    1.80   1.089000   0         DD    1.09  173442.350973  520931.069742   \n\n              RL           Label    CS  order  \n0     302.715175   0.33ppm@1.20m  31.0    6.0  \n1     295.750880   0.55ppm@0.99m  31.0    6.0  \n2     256.347739   0.49ppm@0.60m  31.0    6.0  \n3     242.558119  16.33ppm@1.35m  31.0    6.0  \n4     227.186799   0.42ppm@0.56m  31.0    6.0  \n...          ...             ...   ...    ...  \n1702   92.072798  0.88ppm@20.24m  31.0    4.0  \n1703   77.843928   0.45ppm@2.20m  31.0    4.0  \n1704   57.962048  0.43ppm@22.80m  31.0    4.0  \n1705   35.339810  0.47ppm@14.96m  31.0    4.0  \n1706   23.231563   1.09ppm@1.80m  31.0    4.0  \n\n[84 rows x 17 columns]",
      "text/html": "<div>\n<style scoped>\n    .dataframe tbody tr th:only-of-type {\n        vertical-align: middle;\n    }\n\n    .dataframe tbody tr th {\n        vertical-align: top;\n    }\n\n    .dataframe thead th {\n        text-align: right;\n    }\n</style>\n<table border=\"1\" class=\"dataframe\">\n  <thead>\n    <tr style=\"text-align: right;\">\n      <th></th>\n      <th>Area</th>\n      <th>Trace</th>\n      <th>FROM</th>\n      <th>TO</th>\n      <th>Projet</th>\n      <th>Sample_Number</th>\n      <th>Length</th>\n      <th>Au</th>\n      <th>Cu</th>\n      <th>Drill_Type</th>\n      <th>Au_cut</th>\n      <th>EAST</th>\n      <th>NORTH</th>\n      <th>RL</th>\n      <th>Label</th>\n      <th>CS</th>\n      <th>order</th>\n    </tr>\n  </thead>\n  <tbody>\n    <tr>\n      <th>0</th>\n      <td>Resources</td>\n      <td>GT04</td>\n      <td>15.90</td>\n      <td>17.10</td>\n      <td>Geotechnical_CGT</td>\n      <td>59358</td>\n      <td>1.20</td>\n      <td>0.331000</td>\n      <td>0</td>\n      <td>NaN</td>\n      <td>0.33</td>\n      <td>173469.916414</td>\n      <td>520695.304724</td>\n      <td>302.715175</td>\n      <td>0.33ppm@1.20m</td>\n      <td>31.0</td>\n      <td>6.0</td>\n    </tr>\n    <tr>\n      <th>1</th>\n      <td>Resources</td>\n      <td>GT04</td>\n      <td>23.50</td>\n      <td>24.49</td>\n      <td>Geotechnical_CGT</td>\n      <td>59365</td>\n      <td>0.99</td>\n      <td>0.550000</td>\n      <td>0</td>\n      <td>NaN</td>\n      <td>0.55</td>\n      <td>173469.017758</td>\n      <td>520697.923522</td>\n      <td>295.750880</td>\n      <td>0.55ppm@0.99m</td>\n      <td>31.0</td>\n      <td>6.0</td>\n    </tr>\n    <tr>\n      <th>2</th>\n      <td>Resources</td>\n      <td>GT04</td>\n      <td>66.45</td>\n      <td>67.05</td>\n      <td>Geotechnical_CGT</td>\n      <td>59378</td>\n      <td>0.60</td>\n      <td>0.486000</td>\n      <td>0</td>\n      <td>NaN</td>\n      <td>0.49</td>\n      <td>173461.924616</td>\n      <td>520712.898974</td>\n      <td>256.347739</td>\n      <td>0.49ppm@0.60m</td>\n      <td>31.0</td>\n      <td>6.0</td>\n    </tr>\n    <tr>\n      <th>3</th>\n      <td>Resources</td>\n      <td>GT04</td>\n      <td>81.39</td>\n      <td>82.74</td>\n      <td>Geotechnical_CGT</td>\n      <td>59381</td>\n      <td>1.35</td>\n      <td>16.333481</td>\n      <td>0</td>\n      <td>NaN</td>\n      <td>16.33</td>\n      <td>173459.129627</td>\n      <td>520718.946331</td>\n      <td>242.558119</td>\n      <td>16.33ppm@1.35m</td>\n      <td>31.0</td>\n      <td>6.0</td>\n    </tr>\n    <tr>\n      <th>4</th>\n      <td>Resources</td>\n      <td>GT04</td>\n      <td>99.00</td>\n      <td>99.56</td>\n      <td>Geotechnical_CGT</td>\n      <td>55143</td>\n      <td>0.56</td>\n      <td>0.420000</td>\n      <td>0</td>\n      <td>NaN</td>\n      <td>0.42</td>\n      <td>173455.919319</td>\n      <td>520726.000208</td>\n      <td>227.186799</td>\n      <td>0.42ppm@0.56m</td>\n      <td>31.0</td>\n      <td>6.0</td>\n    </tr>\n    <tr>\n      <th>...</th>\n      <td>...</td>\n      <td>...</td>\n      <td>...</td>\n      <td>...</td>\n      <td>...</td>\n      <td>...</td>\n      <td>...</td>\n      <td>...</td>\n      <td>...</td>\n      <td>...</td>\n      <td>...</td>\n      <td>...</td>\n      <td>...</td>\n      <td>...</td>\n      <td>...</td>\n      <td>...</td>\n      <td>...</td>\n    </tr>\n    <tr>\n      <th>1702</th>\n      <td>Resources</td>\n      <td>MO14199</td>\n      <td>216.80</td>\n      <td>237.04</td>\n      <td>Montagne d'Or_CGT</td>\n      <td>44043</td>\n      <td>20.24</td>\n      <td>0.877573</td>\n      <td>0</td>\n      <td>DD</td>\n      <td>0.88</td>\n      <td>173441.292164</td>\n      <td>520888.452661</td>\n      <td>92.072798</td>\n      <td>0.88ppm@20.24m</td>\n      <td>31.0</td>\n      <td>4.0</td>\n    </tr>\n    <tr>\n      <th>1703</th>\n      <td>Resources</td>\n      <td>MO14199</td>\n      <td>242.40</td>\n      <td>244.60</td>\n      <td>Montagne d'Or_CGT</td>\n      <td>44073</td>\n      <td>2.20</td>\n      <td>0.448909</td>\n      <td>0</td>\n      <td>DD</td>\n      <td>0.45</td>\n      <td>173441.466340</td>\n      <td>520896.961622</td>\n      <td>77.843928</td>\n      <td>0.45ppm@2.20m</td>\n      <td>31.0</td>\n      <td>4.0</td>\n    </tr>\n    <tr>\n      <th>1704</th>\n      <td>Resources</td>\n      <td>MO14199</td>\n      <td>255.40</td>\n      <td>278.20</td>\n      <td>Montagne d'Or_CGT</td>\n      <td>44086</td>\n      <td>22.80</td>\n      <td>0.433144</td>\n      <td>0</td>\n      <td>DD</td>\n      <td>0.43</td>\n      <td>173441.722637</td>\n      <td>520909.106801</td>\n      <td>57.962048</td>\n      <td>0.43ppm@22.80m</td>\n      <td>31.0</td>\n      <td>4.0</td>\n    </tr>\n    <tr>\n      <th>1705</th>\n      <td>Resources</td>\n      <td>MO14199</td>\n      <td>286.04</td>\n      <td>301.00</td>\n      <td>Montagne d'Or_CGT</td>\n      <td>44121</td>\n      <td>14.96</td>\n      <td>0.468398</td>\n      <td>0</td>\n      <td>DD</td>\n      <td>0.47</td>\n      <td>173442.159537</td>\n      <td>520923.314938</td>\n      <td>35.339810</td>\n      <td>0.47ppm@14.96m</td>\n      <td>31.0</td>\n      <td>4.0</td>\n    </tr>\n    <tr>\n      <th>1706</th>\n      <td>Resources</td>\n      <td>MO14199</td>\n      <td>307.00</td>\n      <td>308.80</td>\n      <td>Montagne d'Or_CGT</td>\n      <td>44141</td>\n      <td>1.80</td>\n      <td>1.089000</td>\n      <td>0</td>\n      <td>DD</td>\n      <td>1.09</td>\n      <td>173442.350973</td>\n      <td>520931.069742</td>\n      <td>23.231563</td>\n      <td>1.09ppm@1.80m</td>\n      <td>31.0</td>\n      <td>4.0</td>\n    </tr>\n  </tbody>\n</table>\n<p>84 rows × 17 columns</p>\n</div>"
     },
     "execution_count": 85,
     "metadata": {},
     "output_type": "execute_result"
    }
   ],
   "source": [
    "df_profile"
   ],
   "metadata": {
    "collapsed": false,
    "pycharm": {
     "name": "#%%\n"
    }
   }
  },
  {
   "cell_type": "code",
   "execution_count": 92,
   "outputs": [],
   "source": [
    "df = pd.read_csv(path)\n",
    "df.dropna(subset=[\"CS\"], inplace=True)\n",
    "df.reset_index(inplace=True, drop=True)\n",
    "df[\"order\"] = np.NAN\n",
    "for profile in df[\"CS\"].unique():\n",
    "    df_profile = df.loc[df[\"CS\"] == profile]\n",
    "    sorted_traces = df_profile.loc[df_profile.groupby('Trace')['RL'].idxmax()].sort_values(\"NORTH\")[\"Trace\"].to_list()\n",
    "    for num, trace in enumerate(sorted_traces, 1):\n",
    "        df.loc[df[\"Trace\"] == trace, \"order\"] = num"
   ],
   "metadata": {
    "collapsed": false,
    "pycharm": {
     "name": "#%%\n"
    }
   }
  },
  {
   "cell_type": "code",
   "execution_count": 93,
   "outputs": [
    {
     "data": {
      "text/plain": "           Area      Trace   FROM     TO             Projet Sample_Number  \\\n0     Resources       GT04  15.90  17.10   Geotechnical_CGT         59358   \n1     Resources       GT04  23.50  24.49   Geotechnical_CGT         59365   \n2     Resources       GT04  66.45  67.05   Geotechnical_CGT         59378   \n3     Resources       GT04  81.39  82.74   Geotechnical_CGT         59381   \n4     Resources       GT04  99.00  99.56   Geotechnical_CGT         55143   \n...         ...        ...    ...    ...                ...           ...   \n2388  Resources   RA-96-66   0.55   1.45  Montagne d'Or_GUY     MORA-0570   \n2389  Resources   RA-96-66   4.40   8.30  Montagne d'Or_GUY     MORA-0575   \n2390  Resources   RA-96-66  14.80  15.30  Montagne d'Or_GUY     MORA-0582   \n2391  Resources   RA-97-76   2.00   2.65  Montagne d'Or_GUY     MORA-0645   \n2392       Area  SRK_INT01  16.43  17.68   Geotechnical_CGT         55354   \n\n      Length         Au  Cu Drill_Type  Au_cut           EAST          NORTH  \\\n0       1.20   0.331000   0        NaN    0.33  173469.916414  520695.304724   \n1       0.99   0.550000   0        NaN    0.55  173469.017758  520697.923522   \n2       0.60   0.486000   0        NaN    0.49  173461.924616  520712.898974   \n3       1.35  16.333481   0        NaN   16.33  173459.129627  520718.946331   \n4       0.56   0.420000   0        NaN    0.42  173455.919319  520726.000208   \n...      ...        ...  ..        ...     ...            ...            ...   \n2388    0.90   0.873333   0        NaN    0.87  174589.748852  521040.975726   \n2389    3.90   1.218974   0        NaN    1.22  174589.762830  521035.925936   \n2390    0.50   0.530000   0        NaN    0.53  174590.820294  521027.366800   \n2391    0.65   0.790000   0        NaN    0.79  172428.056043  520535.624735   \n2392    1.25   1.960000   0        NaN    1.96  172103.400000  521289.300000   \n\n              RL           Label    CS  order  \n0     302.715175   0.33ppm@1.20m  31.0    5.0  \n1     295.750880   0.55ppm@0.99m  31.0    5.0  \n2     256.347739   0.49ppm@0.60m  31.0    5.0  \n3     242.558119  16.33ppm@1.35m  31.0    5.0  \n4     227.186799   0.42ppm@0.56m  31.0    5.0  \n...          ...             ...   ...    ...  \n2388  174.662961   0.87ppm@0.90m   7.0    4.0  \n2389  176.235034   1.22ppm@3.90m   7.0    4.0  \n2390  177.356993   0.53ppm@0.50m   7.0    4.0  \n2391  288.403987   0.79ppm@0.65m  51.0    1.0  \n2392  129.276124   1.96ppm@1.25m  53.0    5.0  \n\n[2393 rows x 17 columns]",
      "text/html": "<div>\n<style scoped>\n    .dataframe tbody tr th:only-of-type {\n        vertical-align: middle;\n    }\n\n    .dataframe tbody tr th {\n        vertical-align: top;\n    }\n\n    .dataframe thead th {\n        text-align: right;\n    }\n</style>\n<table border=\"1\" class=\"dataframe\">\n  <thead>\n    <tr style=\"text-align: right;\">\n      <th></th>\n      <th>Area</th>\n      <th>Trace</th>\n      <th>FROM</th>\n      <th>TO</th>\n      <th>Projet</th>\n      <th>Sample_Number</th>\n      <th>Length</th>\n      <th>Au</th>\n      <th>Cu</th>\n      <th>Drill_Type</th>\n      <th>Au_cut</th>\n      <th>EAST</th>\n      <th>NORTH</th>\n      <th>RL</th>\n      <th>Label</th>\n      <th>CS</th>\n      <th>order</th>\n    </tr>\n  </thead>\n  <tbody>\n    <tr>\n      <th>0</th>\n      <td>Resources</td>\n      <td>GT04</td>\n      <td>15.90</td>\n      <td>17.10</td>\n      <td>Geotechnical_CGT</td>\n      <td>59358</td>\n      <td>1.20</td>\n      <td>0.331000</td>\n      <td>0</td>\n      <td>NaN</td>\n      <td>0.33</td>\n      <td>173469.916414</td>\n      <td>520695.304724</td>\n      <td>302.715175</td>\n      <td>0.33ppm@1.20m</td>\n      <td>31.0</td>\n      <td>5.0</td>\n    </tr>\n    <tr>\n      <th>1</th>\n      <td>Resources</td>\n      <td>GT04</td>\n      <td>23.50</td>\n      <td>24.49</td>\n      <td>Geotechnical_CGT</td>\n      <td>59365</td>\n      <td>0.99</td>\n      <td>0.550000</td>\n      <td>0</td>\n      <td>NaN</td>\n      <td>0.55</td>\n      <td>173469.017758</td>\n      <td>520697.923522</td>\n      <td>295.750880</td>\n      <td>0.55ppm@0.99m</td>\n      <td>31.0</td>\n      <td>5.0</td>\n    </tr>\n    <tr>\n      <th>2</th>\n      <td>Resources</td>\n      <td>GT04</td>\n      <td>66.45</td>\n      <td>67.05</td>\n      <td>Geotechnical_CGT</td>\n      <td>59378</td>\n      <td>0.60</td>\n      <td>0.486000</td>\n      <td>0</td>\n      <td>NaN</td>\n      <td>0.49</td>\n      <td>173461.924616</td>\n      <td>520712.898974</td>\n      <td>256.347739</td>\n      <td>0.49ppm@0.60m</td>\n      <td>31.0</td>\n      <td>5.0</td>\n    </tr>\n    <tr>\n      <th>3</th>\n      <td>Resources</td>\n      <td>GT04</td>\n      <td>81.39</td>\n      <td>82.74</td>\n      <td>Geotechnical_CGT</td>\n      <td>59381</td>\n      <td>1.35</td>\n      <td>16.333481</td>\n      <td>0</td>\n      <td>NaN</td>\n      <td>16.33</td>\n      <td>173459.129627</td>\n      <td>520718.946331</td>\n      <td>242.558119</td>\n      <td>16.33ppm@1.35m</td>\n      <td>31.0</td>\n      <td>5.0</td>\n    </tr>\n    <tr>\n      <th>4</th>\n      <td>Resources</td>\n      <td>GT04</td>\n      <td>99.00</td>\n      <td>99.56</td>\n      <td>Geotechnical_CGT</td>\n      <td>55143</td>\n      <td>0.56</td>\n      <td>0.420000</td>\n      <td>0</td>\n      <td>NaN</td>\n      <td>0.42</td>\n      <td>173455.919319</td>\n      <td>520726.000208</td>\n      <td>227.186799</td>\n      <td>0.42ppm@0.56m</td>\n      <td>31.0</td>\n      <td>5.0</td>\n    </tr>\n    <tr>\n      <th>...</th>\n      <td>...</td>\n      <td>...</td>\n      <td>...</td>\n      <td>...</td>\n      <td>...</td>\n      <td>...</td>\n      <td>...</td>\n      <td>...</td>\n      <td>...</td>\n      <td>...</td>\n      <td>...</td>\n      <td>...</td>\n      <td>...</td>\n      <td>...</td>\n      <td>...</td>\n      <td>...</td>\n      <td>...</td>\n    </tr>\n    <tr>\n      <th>2388</th>\n      <td>Resources</td>\n      <td>RA-96-66</td>\n      <td>0.55</td>\n      <td>1.45</td>\n      <td>Montagne d'Or_GUY</td>\n      <td>MORA-0570</td>\n      <td>0.90</td>\n      <td>0.873333</td>\n      <td>0</td>\n      <td>NaN</td>\n      <td>0.87</td>\n      <td>174589.748852</td>\n      <td>521040.975726</td>\n      <td>174.662961</td>\n      <td>0.87ppm@0.90m</td>\n      <td>7.0</td>\n      <td>4.0</td>\n    </tr>\n    <tr>\n      <th>2389</th>\n      <td>Resources</td>\n      <td>RA-96-66</td>\n      <td>4.40</td>\n      <td>8.30</td>\n      <td>Montagne d'Or_GUY</td>\n      <td>MORA-0575</td>\n      <td>3.90</td>\n      <td>1.218974</td>\n      <td>0</td>\n      <td>NaN</td>\n      <td>1.22</td>\n      <td>174589.762830</td>\n      <td>521035.925936</td>\n      <td>176.235034</td>\n      <td>1.22ppm@3.90m</td>\n      <td>7.0</td>\n      <td>4.0</td>\n    </tr>\n    <tr>\n      <th>2390</th>\n      <td>Resources</td>\n      <td>RA-96-66</td>\n      <td>14.80</td>\n      <td>15.30</td>\n      <td>Montagne d'Or_GUY</td>\n      <td>MORA-0582</td>\n      <td>0.50</td>\n      <td>0.530000</td>\n      <td>0</td>\n      <td>NaN</td>\n      <td>0.53</td>\n      <td>174590.820294</td>\n      <td>521027.366800</td>\n      <td>177.356993</td>\n      <td>0.53ppm@0.50m</td>\n      <td>7.0</td>\n      <td>4.0</td>\n    </tr>\n    <tr>\n      <th>2391</th>\n      <td>Resources</td>\n      <td>RA-97-76</td>\n      <td>2.00</td>\n      <td>2.65</td>\n      <td>Montagne d'Or_GUY</td>\n      <td>MORA-0645</td>\n      <td>0.65</td>\n      <td>0.790000</td>\n      <td>0</td>\n      <td>NaN</td>\n      <td>0.79</td>\n      <td>172428.056043</td>\n      <td>520535.624735</td>\n      <td>288.403987</td>\n      <td>0.79ppm@0.65m</td>\n      <td>51.0</td>\n      <td>1.0</td>\n    </tr>\n    <tr>\n      <th>2392</th>\n      <td>Area</td>\n      <td>SRK_INT01</td>\n      <td>16.43</td>\n      <td>17.68</td>\n      <td>Geotechnical_CGT</td>\n      <td>55354</td>\n      <td>1.25</td>\n      <td>1.960000</td>\n      <td>0</td>\n      <td>NaN</td>\n      <td>1.96</td>\n      <td>172103.400000</td>\n      <td>521289.300000</td>\n      <td>129.276124</td>\n      <td>1.96ppm@1.25m</td>\n      <td>53.0</td>\n      <td>5.0</td>\n    </tr>\n  </tbody>\n</table>\n<p>2393 rows × 17 columns</p>\n</div>"
     },
     "execution_count": 93,
     "metadata": {},
     "output_type": "execute_result"
    }
   ],
   "source": [
    "df"
   ],
   "metadata": {
    "collapsed": false,
    "pycharm": {
     "name": "#%%\n"
    }
   }
  },
  {
   "cell_type": "code",
   "execution_count": 94,
   "outputs": [],
   "source": [
    "path_out = \"C:\\Projects\\MM_Resources_Estimation\\AREAS\\Guyana\\DB\\DH_Comp_cut03ppm_w5_indexed.csv\"\n",
    "\n",
    "df.to_csv(path_out, index=False)\n"
   ],
   "metadata": {
    "collapsed": false,
    "pycharm": {
     "name": "#%%\n"
    }
   }
  },
  {
   "cell_type": "code",
   "execution_count": null,
   "outputs": [],
   "source": [],
   "metadata": {
    "collapsed": false,
    "pycharm": {
     "name": "#%%\n"
    }
   }
  }
 ],
 "metadata": {
  "kernelspec": {
   "display_name": "Python 3",
   "language": "python",
   "name": "python3"
  },
  "language_info": {
   "codemirror_mode": {
    "name": "ipython",
    "version": 2
   },
   "file_extension": ".py",
   "mimetype": "text/x-python",
   "name": "python",
   "nbconvert_exporter": "python",
   "pygments_lexer": "ipython2",
   "version": "2.7.6"
  }
 },
 "nbformat": 4,
 "nbformat_minor": 0
}